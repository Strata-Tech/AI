{
  "nbformat": 4,
  "nbformat_minor": 0,
  "metadata": {
    "colab": {
      "name": "covid19.ipynb",
      "provenance": [],
      "authorship_tag": "ABX9TyOff1wV/bdSoKMFCmONpK9I",
      "include_colab_link": true
    },
    "kernelspec": {
      "name": "python3",
      "display_name": "Python 3"
    },
    "language_info": {
      "name": "python"
    }
  },
  "cells": [
    {
      "cell_type": "markdown",
      "metadata": {
        "id": "view-in-github",
        "colab_type": "text"
      },
      "source": [
        "<a href=\"https://colab.research.google.com/github/Strata-Tech/AI/blob/main/covid19.ipynb\" target=\"_parent\"><img src=\"https://colab.research.google.com/assets/colab-badge.svg\" alt=\"Open In Colab\"/></a>"
      ]
    },
    {
      "cell_type": "code",
      "metadata": {
        "colab": {
          "base_uri": "https://localhost:8080/"
        },
        "id": "3_KYrpMcYwL1",
        "outputId": "de563261-5723-45f9-f04a-860121cc8568"
      },
      "source": [
        "!pip3 install plotly==4.8"
      ],
      "execution_count": 1,
      "outputs": [
        {
          "output_type": "stream",
          "text": [
            "Requirement already satisfied: plotly==4.8 in /usr/local/lib/python3.7/dist-packages (4.8.0)\n",
            "Requirement already satisfied: six in /usr/local/lib/python3.7/dist-packages (from plotly==4.8) (1.15.0)\n",
            "Requirement already satisfied: retrying>=1.3.3 in /usr/local/lib/python3.7/dist-packages (from plotly==4.8) (1.3.3)\n"
          ],
          "name": "stdout"
        }
      ]
    },
    {
      "cell_type": "code",
      "metadata": {
        "id": "GM_ysToQZzvB"
      },
      "source": [
        "# import the relevant packages\n",
        "import os\n",
        "import pandas as pd\n",
        "import numpy as np\n",
        "\n",
        "# ploty is an interactive visualization package built using javascript. \n",
        "# it is mostly used for explantory visualization (presenting to others)\n",
        "import plotly.express as px\n",
        "\n",
        "# requests is a package that allows Python to talk to the world wide web (www)\n",
        "import requests"
      ],
      "execution_count": 5,
      "outputs": []
    },
    {
      "cell_type": "code",
      "metadata": {
        "id": "M4MpDKLFZz5J"
      },
      "source": [
        "#Using the data provided by John Hopkins at https://github.com/CSSEGISandData/COVID-19\n",
        "#datasets used are confirmed,deaths and recovered cases.\n",
        "COVID_DATA_URLS = [\n",
        "  'https://raw.githubusercontent.com/CSSEGISandData/COVID-19/master/csse_covid_19_data/csse_covid_19_time_series/time_series_covid19_confirmed_global.csv',                 \n",
        "  'https://raw.githubusercontent.com/CSSEGISandData/COVID-19/master/csse_covid_19_data/csse_covid_19_time_series/time_series_covid19_deaths_global.csv',\n",
        "  'https://raw.githubusercontent.com/CSSEGISandData/COVID-19/master/csse_covid_19_data/csse_covid_19_time_series/time_series_covid19_recovered_global.csv'              \n",
        "]"
      ],
      "execution_count": 6,
      "outputs": []
    },
    {
      "cell_type": "code",
      "metadata": {
        "colab": {
          "base_uri": "https://localhost:8080/"
        },
        "id": "WyadLscLZz8-",
        "outputId": "78255c35-233c-43bd-cf6c-b341f3081a4f"
      },
      "source": [
        "#to check if links are working\n",
        "\n",
        "for url in COVID_DATA_URLS:\n",
        "  response=requests.head(url)\n",
        "  print(str(response.status_code)+':'+response.request.url)"
      ],
      "execution_count": 7,
      "outputs": [
        {
          "output_type": "stream",
          "text": [
            "200:https://raw.githubusercontent.com/CSSEGISandData/COVID-19/master/csse_covid_19_data/csse_covid_19_time_series/time_series_covid19_confirmed_global.csv\n",
            "200:https://raw.githubusercontent.com/CSSEGISandData/COVID-19/master/csse_covid_19_data/csse_covid_19_time_series/time_series_covid19_deaths_global.csv\n",
            "200:https://raw.githubusercontent.com/CSSEGISandData/COVID-19/master/csse_covid_19_data/csse_covid_19_time_series/time_series_covid19_recovered_global.csv\n"
          ],
          "name": "stdout"
        }
      ]
    },
    {
      "cell_type": "code",
      "metadata": {
        "colab": {
          "base_uri": "https://localhost:8080/"
        },
        "id": "lgNk4CmtZ0Ak",
        "outputId": "d55c2bee-1eb9-44c8-a5ec-4f553a190197"
      },
      "source": [
        "#Creating a function which downloads file and save it in colab hosted runtime if file does not exist. If file exists, reuse the saved file\n",
        "\n",
        "\n",
        "url = 'https://raw.githubusercontent.com/CSSEGISandData/COVID-19/master/csse_covid_19_data/csse_covid_19_time_series/time_series_covid19_confirmed_global.csv'\n",
        "\n",
        "\n",
        "os.listdir()"
      ],
      "execution_count": 8,
      "outputs": [
        {
          "output_type": "execute_result",
          "data": {
            "text/plain": [
              "['.config',\n",
              " 'time_series_covid19_deaths_global.csv',\n",
              " 'time_series_covid19_recovered_global.csv',\n",
              " 'time_series_covid19_confirmed_global.csv',\n",
              " 'sample_data']"
            ]
          },
          "metadata": {
            "tags": []
          },
          "execution_count": 8
        }
      ]
    },
    {
      "cell_type": "code",
      "metadata": {
        "id": "zwA-VJngZ0El"
      },
      "source": [
        "def load_df_from_url(url):\n",
        "  filename=url.split('/')[-1]\n",
        "  if filename in os.listdir():\n",
        "    df=pd.read_csv(filename)\n",
        "    print(f\"Using saved file {filename} on colab hosted runtime\")\n",
        "\n",
        "  else:\n",
        "    df=pd.read_csv(url)\n",
        "    df.to_csv(f\"{filename}\",index=False)\n",
        "    print(f\"Downloaded file {filename} from internet and saved to colab hosted runtime\")\n",
        "\n",
        "  return df, filename\n",
        "  \n"
      ],
      "execution_count": 9,
      "outputs": []
    },
    {
      "cell_type": "code",
      "metadata": {
        "colab": {
          "base_uri": "https://localhost:8080/"
        },
        "id": "Z86DwGfMZ0Ja",
        "outputId": "4235768d-9ad9-4601-fa5c-7fa4b98a0a25"
      },
      "source": [
        "#testing function with first url in the list\n",
        "\n",
        "url = COVID_DATA_URLS[0]\n",
        "df, filename = load_df_from_url(url)\n",
        "\n",
        "#to see all columns\n",
        "pd.options.display.width=100\n",
        "pd.options.display.max_columns=10\n",
        "\n",
        "print(df.head())\n",
        "print(df.tail())\n"
      ],
      "execution_count": 10,
      "outputs": [
        {
          "output_type": "stream",
          "text": [
            "Using saved file time_series_covid19_confirmed_global.csv on colab hosted runtime\n",
            "  Province/State Country/Region       Lat       Long  1/22/20  ...  8/3/21  8/4/21  8/5/21  \\\n",
            "0            NaN    Afghanistan  33.93911  67.709953        0  ...  148572  148933  149361   \n",
            "1            NaN        Albania  41.15330  20.168300        0  ...  133211  133310  133442   \n",
            "2            NaN        Algeria  28.03390   1.659600        0  ...  175229  176724  178013   \n",
            "3            NaN        Andorra  42.50630   1.521800        0  ...   14766   14797   14809   \n",
            "4            NaN         Angola -11.20270  17.873900        0  ...   43070   43158   43269   \n",
            "\n",
            "   8/6/21  8/7/21  \n",
            "0  149810  149810  \n",
            "1  133591  133730  \n",
            "2  179216  180356  \n",
            "3   14836   14836  \n",
            "4   43487   43592  \n",
            "\n",
            "[5 rows x 568 columns]\n",
            "    Province/State      Country/Region        Lat        Long  1/22/20  ...  8/3/21  8/4/21  \\\n",
            "274            NaN             Vietnam  14.058324  108.277199        0  ...  174461  181756   \n",
            "275            NaN  West Bank and Gaza  31.952200   35.233200        0  ...  317264  317404   \n",
            "276            NaN               Yemen  15.552727   48.516388        0  ...    7086    7096   \n",
            "277            NaN              Zambia -13.133897   27.849332        0  ...  197123  197791   \n",
            "278            NaN            Zimbabwe -19.015438   29.154857        0  ...  112435  113526   \n",
            "\n",
            "     8/5/21  8/6/21  8/7/21  \n",
            "274  189066  193381  205656  \n",
            "275  317534  317703  317703  \n",
            "276    7104    7131    7131  \n",
            "277  198455  199135  199662  \n",
            "278  114489  115445  115890  \n",
            "\n",
            "[5 rows x 568 columns]\n"
          ],
          "name": "stdout"
        }
      ]
    },
    {
      "cell_type": "code",
      "metadata": {
        "id": "oi5X6akZgXgW"
      },
      "source": [
        "#writing a loop for each datafile in the list \n",
        "#so that we can load the file in memory\n",
        "#rename the columns from Province/State to Province,Country/Region to Country\n",
        "#change all columns to lower case\n",
        "#Fill missing values in province with values from country\n",
        "#Check and drop columns with overwhelming null values.\n",
        "#Convert the datset into a panel set with dates and countries as rows.\n",
        "#Merge the panel dataframe into the main dataset, to arrive at confirmed, death and recovered columns"
      ],
      "execution_count": 8,
      "outputs": []
    },
    {
      "cell_type": "code",
      "metadata": {
        "colab": {
          "base_uri": "https://localhost:8080/"
        },
        "id": "3ggJOj41gXon",
        "outputId": "b6a1b524-7d9d-4099-c9e1-a5347672689b"
      },
      "source": [
        "for i,url in enumerate(COVID_DATA_URLS):\n",
        "  #load the file into memory\n",
        "  df,filename=load_df_from_url(url)\n",
        "\n",
        "  #renaming of columns\n",
        "  df.rename(columns={'Province/State':'Province','Country/Region':'Country'},inplace=True)\n",
        "\n",
        "  #change columns to lowercase\n",
        "  df.columns=[col.lower() for col in df.columns]\n",
        "\n",
        "  #Fill missing values in province with values from country\n",
        "  df['province'].fillna(df['country'],inplace=True)\n",
        "\n",
        "  #create a pivot table with 'Province/State', 'Country/Region', 'Lat', 'Long' groups\n",
        "  df=df.groupby(['province', 'country', 'lat', 'long']).sum().reset_index()\n",
        "\n",
        "  # split the filename to get the keywords we want (confirmed, deaths, recovered)\n",
        "  value_name=filename.split('_')[-2]\n",
        "\n",
        "  # pivot the dataframe into a panel format.\n",
        "  df=df.melt(id_vars=['province', 'country', 'lat', 'long'],var_name='date',value_name=value_name)\n",
        "\n",
        "  #convert date column to datetime format.\n",
        "  df['date']=pd.to_datetime(df['date'])\n",
        "\n",
        "  #Merge the dataframes to dataset\n",
        "    # checking if it's the first df to be read\n",
        "    # i should be equal to 0\n",
        "    # i is created from enumerate()\n",
        "\n",
        "  if i==0:\n",
        "    dataset=df\n",
        "\n",
        "  else:\n",
        "    dataset=pd.merge(dataset,df,how='outer',on=['province', 'country', 'lat', 'long'])\n",
        "\n",
        "dataset.sort_values(['province','country', 'date'], inplace=True)\n",
        "\n"
      ],
      "execution_count": null,
      "outputs": [
        {
          "output_type": "stream",
          "text": [
            "Using saved file time_series_covid19_confirmed_global.csv on colab hosted runtime\n",
            "Using saved file time_series_covid19_deaths_global.csv on colab hosted runtime\n",
            "Using saved file time_series_covid19_recovered_global.csv on colab hosted runtime\n"
          ],
          "name": "stdout"
        }
      ]
    },
    {
      "cell_type": "code",
      "metadata": {
        "colab": {
          "base_uri": "https://localhost:8080/",
          "height": 164
        },
        "id": "Ftm2n1crgXxC",
        "outputId": "f4aff6bf-60c1-4420-ec94-2309740193d6"
      },
      "source": [
        "dataset"
      ],
      "execution_count": 1,
      "outputs": [
        {
          "output_type": "error",
          "ename": "NameError",
          "evalue": "ignored",
          "traceback": [
            "\u001b[0;31m---------------------------------------------------------------------------\u001b[0m",
            "\u001b[0;31mNameError\u001b[0m                                 Traceback (most recent call last)",
            "\u001b[0;32m<ipython-input-1-3075b36c09c8>\u001b[0m in \u001b[0;36m<module>\u001b[0;34m()\u001b[0m\n\u001b[0;32m----> 1\u001b[0;31m \u001b[0mdataset\u001b[0m\u001b[0;34m\u001b[0m\u001b[0;34m\u001b[0m\u001b[0m\n\u001b[0m",
            "\u001b[0;31mNameError\u001b[0m: name 'dataset' is not defined"
          ]
        }
      ]
    },
    {
      "cell_type": "code",
      "metadata": {
        "id": "IEsDnG-agX4G"
      },
      "source": [
        ""
      ],
      "execution_count": null,
      "outputs": []
    },
    {
      "cell_type": "code",
      "metadata": {
        "id": "RQyPHMcdZ0Nd"
      },
      "source": [
        ""
      ],
      "execution_count": null,
      "outputs": []
    },
    {
      "cell_type": "code",
      "metadata": {
        "id": "LI4xZY43Z0Rg"
      },
      "source": [
        ""
      ],
      "execution_count": null,
      "outputs": []
    }
  ]
}